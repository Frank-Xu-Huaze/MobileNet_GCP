{
 "cells": [
  {
   "cell_type": "code",
   "execution_count": 25,
   "metadata": {},
   "outputs": [],
   "source": [
    "import tensorflow as tf\n",
    "import numpy as np\n",
    "from PIL import Image\n",
    "\n",
    "# Loading pre-trained models\n",
    "model = tf.keras.applications.MobileNet()\n",
    "labels_path = tf.keras.utils.get_file(\n",
    "    'ImageNetLabels.txt',\n",
    "    'https://storage.googleapis.com/download.tensorflow.org/data/ImageNetLabels.txt')\n",
    "imagenet_labels = np.array(open(labels_path).read().splitlines())[1:]"
   ]
  },
  {
   "cell_type": "code",
   "execution_count": 28,
   "metadata": {},
   "outputs": [],
   "source": [
    "# Open up a local file as image example\n",
    "im = Image.open(\"/Users/frank/Desktop/title.png\")\n",
    "im = im.resize((224,224))"
   ]
  },
  {
   "cell_type": "code",
   "execution_count": 29,
   "metadata": {},
   "outputs": [
    {
     "name": "stdout",
     "output_type": "stream",
     "text": [
      "Our best guess: triceratops, with 0.229 confidence.\n"
     ]
    }
   ],
   "source": [
    "# Transfer image into array\n",
    "x = tf.keras.preprocessing.image.img_to_array(im)\n",
    "x = tf.keras.applications.mobilenet.preprocess_input(x[tf.newaxis,...])\n",
    "# Only taking RGB channels\n",
    "x = x[:, :, :, 0:3]\n",
    "# Predicting and reporting\n",
    "p = model(x)\n",
    "decoded = sorted(list(zip(imagenet_labels,p.numpy()[0])), key = lambda x: x[1])[-1]\n",
    "print('Our best guess: {}, with {:.3f} confidence.'.format(decoded[0], decoded[1]))"
   ]
  },
  {
   "cell_type": "code",
   "execution_count": null,
   "metadata": {},
   "outputs": [],
   "source": []
  }
 ],
 "metadata": {
  "kernelspec": {
   "display_name": "Python 3",
   "language": "python",
   "name": "python3"
  },
  "language_info": {
   "codemirror_mode": {
    "name": "ipython",
    "version": 3
   },
   "file_extension": ".py",
   "mimetype": "text/x-python",
   "name": "python",
   "nbconvert_exporter": "python",
   "pygments_lexer": "ipython3",
   "version": "3.7.3"
  }
 },
 "nbformat": 4,
 "nbformat_minor": 4
}
